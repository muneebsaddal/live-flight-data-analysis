{
 "cells": [
  {
   "cell_type": "code",
   "execution_count": 1,
   "id": "81e969f7",
   "metadata": {},
   "outputs": [],
   "source": [
    "import pandas as pd\n",
    "import numpy as np\n",
    "import matplotlib.pyplot as plt\n",
    "import seaborn as sns\n",
    "import folium"
   ]
  },
  {
   "cell_type": "markdown",
   "id": "414b6d8f",
   "metadata": {},
   "source": [
    "*Load Data*"
   ]
  },
  {
   "cell_type": "code",
   "execution_count": null,
   "id": "ab088a5f",
   "metadata": {},
   "outputs": [],
   "source": [
    "file_path = \"flight_data.csv\"\n",
    "df = pd.read_csv(file_path)\n",
    "print(\"Data shape: \", df.shape)\n",
    "df.head()"
   ]
  },
  {
   "cell_type": "markdown",
   "id": "348b5b58",
   "metadata": {},
   "source": [
    "*Inspect data*"
   ]
  },
  {
   "cell_type": "code",
   "execution_count": null,
   "id": "933b2a6e",
   "metadata": {},
   "outputs": [],
   "source": [
    "print(df.columns)\n",
    "print(df.info())\n",
    "print(df.describe())"
   ]
  },
  {
   "cell_type": "markdown",
   "id": "87748a35",
   "metadata": {},
   "source": [
    "*Data Cleaning*"
   ]
  },
  {
   "cell_type": "code",
   "execution_count": 8,
   "id": "411b9999",
   "metadata": {},
   "outputs": [
    {
     "name": "stdout",
     "output_type": "stream",
     "text": [
      "(11478, 18)\n"
     ]
    }
   ],
   "source": [
    "df = df.drop(\"sensors\", axis=1)\n",
    "df = df.drop_duplicates()\n",
    "print(df.shape)"
   ]
  },
  {
   "cell_type": "markdown",
   "id": "59908688",
   "metadata": {},
   "source": [
    "*Convert UNIX time to datetime*"
   ]
  },
  {
   "cell_type": "code",
   "execution_count": null,
   "id": "dc8565ab",
   "metadata": {},
   "outputs": [],
   "source": [
    "for col in [\"time_position\",\"last_contact\"]:\n",
    "    if col in df.columns:\n",
    "        df[col] = pd.to_datetime(df[col], unit='s', errors=\"coerce\")\n",
    "print(df.head())"
   ]
  },
  {
   "cell_type": "markdown",
   "id": "ca0eab08",
   "metadata": {},
   "source": [
    "*Handle missing values*"
   ]
  },
  {
   "cell_type": "code",
   "execution_count": null,
   "id": "c0f22118",
   "metadata": {},
   "outputs": [],
   "source": [
    "print(df.isna().sum())\n",
    "df = df.dropna(subset=[\"longitude\", \"latitude\"])"
   ]
  },
  {
   "cell_type": "markdown",
   "id": "ddb3a823",
   "metadata": {},
   "source": [
    "**EXPLORATORY ANALYSIS**"
   ]
  },
  {
   "cell_type": "markdown",
   "id": "3daed0a5",
   "metadata": {},
   "source": [
    "*Flights per country*"
   ]
  },
  {
   "cell_type": "code",
   "execution_count": null,
   "id": "33f9161c",
   "metadata": {},
   "outputs": [],
   "source": []
  }
 ],
 "metadata": {
  "kernelspec": {
   "display_name": "Python 3",
   "language": "python",
   "name": "python3"
  },
  "language_info": {
   "codemirror_mode": {
    "name": "ipython",
    "version": 3
   },
   "file_extension": ".py",
   "mimetype": "text/x-python",
   "name": "python",
   "nbconvert_exporter": "python",
   "pygments_lexer": "ipython3",
   "version": "3.13.0"
  }
 },
 "nbformat": 4,
 "nbformat_minor": 5
}
